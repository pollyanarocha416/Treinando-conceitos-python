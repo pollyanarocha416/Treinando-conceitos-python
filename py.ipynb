{
 "cells": [
  {
   "cell_type": "code",
   "execution_count": 26,
   "metadata": {},
   "outputs": [
    {
     "data": {
      "text/plain": [
       "148"
      ]
     },
     "execution_count": 26,
     "metadata": {},
     "output_type": "execute_result"
    }
   ],
   "source": [
    "\n",
    "def min_value(digits):\n",
    "    num = list(set(digits))\n",
    "    num = sorted(num)\n",
    "    num = str(num).replace(' ', '').replace(',', '').replace('[', '').replace(']', '')\n",
    "    num = int(num)\n",
    "    return num\n",
    "min_value([4, 8, 1, 4])"
   ]
  },
  {
   "cell_type": "code",
   "execution_count": 31,
   "metadata": {},
   "outputs": [
    {
     "data": {
      "text/plain": [
       "12345678"
      ]
     },
     "execution_count": 31,
     "metadata": {},
     "output_type": "execute_result"
    }
   ],
   "source": [
    "def min_value(digits):\n",
    "     return int(\"\".join(map(str,sorted(set(digits)))))\n",
    "min_value([4, 3, 5, 6, 7, 0, 8, 1, 4, 2, 2, 2, 2, 2])"
   ]
  },
  {
   "cell_type": "code",
   "execution_count": 32,
   "metadata": {},
   "outputs": [
    {
     "name": "stdout",
     "output_type": "stream",
     "text": [
      "HeyWhatsupbro\n"
     ]
    }
   ],
   "source": [
    "string = \"Hey! What's up bro?\"\n",
    "\n",
    "new_string = ''.join(char for char in string if char.isalnum())\n",
    "print(new_string)"
   ]
  },
  {
   "cell_type": "code",
   "execution_count": 30,
   "metadata": {},
   "outputs": [
    {
     "name": "stdout",
     "output_type": "stream",
     "text": [
      "65 119ise 111ld 111wl 108ived 105n 97n 111ak\n"
     ]
    }
   ],
   "source": [
    "def transformar_string(entrada):\n",
    "    palavras = entrada.split()  # Dividir a entrada em palavras\n",
    "    saida = \"\"\n",
    "\n",
    "    for palavra in palavras:\n",
    "        if palavra.isalpha():\n",
    "            saida += str(ord(palavra[0])) + palavra[1:]\n",
    "        else:\n",
    "            saida += palavra\n",
    "\n",
    "        saida += \" \"\n",
    "\n",
    "    return saida.strip()\n",
    "\n",
    "\n",
    "# Exemplo de uso da função\n",
    "entrada = \"A wise   old   owl   lived   in   an  oak\"\n",
    "saida = transformar_string(entrada)\n",
    "print(saida)\n"
   ]
  },
  {
   "cell_type": "code",
   "execution_count": 26,
   "metadata": {},
   "outputs": [
    {
     "name": "stdout",
     "output_type": "stream",
     "text": [
      "['A', ' ', 'w', 'i', 's', 'e', ' ', 'o', 'l', 'd', ' ', 'o', 'w', 'l', ' ', 'l', 'i', 'v', 'e', 'd', ' ', 'i', 'n', ' ', 'a', 'n', ' ', 'o', 'a', 'k']\n"
     ]
    }
   ],
   "source": [
    "\n",
    "def encrypt_this(text):\n",
    "    \n",
    "    \n",
    "    \n",
    "encrypt_this(\"A wise old owl lived in an oak\")\n",
    "#encrypt_this()## entrada =         \"A wise   old   owl   lived   in   an  oak\"\n",
    "    ## saida esperada = \"65 119esi 111dl 111lw 108dvei 105n 97n 111ka\""
   ]
  },
  {
   "cell_type": "code",
   "execution_count": 9,
   "metadata": {},
   "outputs": [
    {
     "data": {
      "text/plain": [
       "'heljo'"
      ]
     },
     "execution_count": 9,
     "metadata": {},
     "output_type": "execute_result"
    }
   ],
   "source": [
    "def decode(st):\n",
    "    mapeamento = {'1': 'a', '2': 'e', '3': 'i', '4': 'o', '5': 'u'}\n",
    "    for vogal, num in mapeamento.items():\n",
    "        st = st.replace(vogal, num)\n",
    "    return st\n",
    "decode('h2ll4')\n",
    "\n",
    "def decode(st):\n",
    "    mapeamento = {'a': '1', 'e': '2', 'i': '3', 'o': '4', 'u': '5'}\n",
    "    for vogal, num in mapeamento.items():\n",
    "        st = st.replace(num, vogal)\n",
    "    return st\n",
    "decode('h2lj4')"
   ]
  },
  {
   "cell_type": "code",
   "execution_count": 4,
   "metadata": {},
   "outputs": [
    {
     "name": "stdout",
     "output_type": "stream",
     "text": [
      "Olakjhvju, mundo!\n"
     ]
    },
    {
     "data": {
      "text/plain": [
       "('p4lly, c4m4 v4cê 2stá?', ':o##], /o$o _o/ê e()á?')"
      ]
     },
     "execution_count": 4,
     "metadata": {},
     "output_type": "execute_result"
    }
   ],
   "source": [
    "texto = \"Olá, mundo!\"\n",
    "tabela = str.maketrans(\"Olá\", \"Ola\")\n",
    "\n",
    "texto_substituido = texto.translate(tabela)\n",
    "print(texto_substituido)\n",
    "\n",
    "def decotifica(str):\n",
    "    mudanca_vogal = str.maketrans(\"aeiou\", \"12345\")\n",
    "    mudanca_concoante = str.maketrans(\"bcdfghjklmnpqrstvwxyz\", \"^/*-+.!@#$%:&*()_+{]!\")\n",
    "\n",
    "    text_concoante = str.translate(mudanca_concoante)\n",
    "    text_subs = str.translate(mudanca_vogal)\n",
    "    return text_subs, text_concoante\n",
    "decotifica(\"polly, como você está?\")"
   ]
  },
  {
   "cell_type": "code",
   "execution_count": 3,
   "metadata": {},
   "outputs": [
    {
     "name": "stdout",
     "output_type": "stream",
     "text": [
      "O eduyuiuy roeu a roupa do rei de Roma.\n"
     ]
    }
   ],
   "source": [
    "import re\n",
    "\n",
    "string = \"O rato roeu a roupa do rei de Roma.\"\n",
    "padrão = \"rato\"\n",
    "substituição = \"edu\"\n",
    "\n",
    "nova_string = re.sub(padrão, substituição, string)\n",
    "print(nova_string)"
   ]
  },
  {
   "cell_type": "code",
   "execution_count": 10,
   "metadata": {},
   "outputs": [
    {
     "data": {
      "text/plain": [
       "[0.2, 3.1, 3.5, 7.5]"
      ]
     },
     "execution_count": 10,
     "metadata": {},
     "output_type": "execute_result"
    }
   ],
   "source": [
    "def to_float_array(arr): \n",
    "    return sorted(list(map(float, arr)))\n",
    "to_float_array(['3.5', '3.1', '7.5', '0.2'])"
   ]
  }
 ],
 "metadata": {
  "kernelspec": {
   "display_name": "Python 3.10.0 64-bit",
   "language": "python",
   "name": "python3"
  },
  "language_info": {
   "codemirror_mode": {
    "name": "ipython",
    "version": 3
   },
   "file_extension": ".py",
   "mimetype": "text/x-python",
   "name": "python",
   "nbconvert_exporter": "python",
   "pygments_lexer": "ipython3",
   "version": "3.10.11"
  },
  "orig_nbformat": 4,
  "vscode": {
   "interpreter": {
    "hash": "3e680e901da43b1ff7896a65bb9fdc0d88fdcb475def19e54fa2d4ad7c5b5275"
   }
  }
 },
 "nbformat": 4,
 "nbformat_minor": 2
}
