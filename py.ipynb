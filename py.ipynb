{
 "cells": [
  {
   "cell_type": "code",
   "execution_count": 6,
   "metadata": {},
   "outputs": [
    {
     "ename": "ValueError",
     "evalue": "the first two maketrans arguments must have equal length",
     "output_type": "error",
     "traceback": [
      "\u001b[1;31m---------------------------------------------------------------------------\u001b[0m",
      "\u001b[1;31mValueError\u001b[0m                                Traceback (most recent call last)",
      "Cell \u001b[1;32mIn[6], line 8\u001b[0m\n\u001b[0;32m      6\u001b[0m     num \u001b[39m=\u001b[39m \u001b[39mint\u001b[39m(num)\n\u001b[0;32m      7\u001b[0m     \u001b[39mreturn\u001b[39;00m num\n\u001b[1;32m----> 8\u001b[0m min_value([\u001b[39m4\u001b[39;49m, \u001b[39m8\u001b[39;49m, \u001b[39m1\u001b[39;49m, \u001b[39m4\u001b[39;49m])\n",
      "Cell \u001b[1;32mIn[6], line 5\u001b[0m, in \u001b[0;36mmin_value\u001b[1;34m(digits)\u001b[0m\n\u001b[0;32m      3\u001b[0m num \u001b[39m=\u001b[39m \u001b[39msorted\u001b[39m(num)\n\u001b[0;32m      4\u001b[0m \u001b[39m#num = str(num).replace(' ', '').replace(',', '').replace('[', '').replace(']', '')\u001b[39;00m\n\u001b[1;32m----> 5\u001b[0m num \u001b[39m=\u001b[39m \u001b[39mstr\u001b[39;49m(num)\u001b[39m.\u001b[39;49mmaketrans(\u001b[39m'\u001b[39;49m\u001b[39m,[]\u001b[39;49m\u001b[39m'\u001b[39;49m, \u001b[39m'\u001b[39;49m\u001b[39msdff\u001b[39;49m\u001b[39m'\u001b[39;49m)\n\u001b[0;32m      6\u001b[0m num \u001b[39m=\u001b[39m \u001b[39mint\u001b[39m(num)\n\u001b[0;32m      7\u001b[0m \u001b[39mreturn\u001b[39;00m num\n",
      "\u001b[1;31mValueError\u001b[0m: the first two maketrans arguments must have equal length"
     ]
    }
   ],
   "source": [
    "\n",
    "def min_value(digits):\n",
    "    num = list(set(digits))\n",
    "    num = sorted(num)\n",
    "    num = str(num).replace(' ', '').replace(',', '').replace('[', '').replace(']', '')\n",
    "\n",
    "    num = int(num)\n",
    "    return num\n",
    "min_value([4, 8, 1, 4])"
   ]
  },
  {
   "cell_type": "code",
   "execution_count": 31,
   "metadata": {},
   "outputs": [
    {
     "data": {
      "text/plain": [
       "12345678"
      ]
     },
     "execution_count": 31,
     "metadata": {},
     "output_type": "execute_result"
    }
   ],
   "source": [
    "def min_value(digits):\n",
    "     return int(\"\".join(map(str,sorted(set(digits)))))\n",
    "min_value([4, 3, 5, 6, 7, 0, 8, 1, 4, 2, 2, 2, 2, 2])"
   ]
  },
  {
   "cell_type": "code",
   "execution_count": 4,
   "metadata": {},
   "outputs": [
    {
     "name": "stdout",
     "output_type": "stream",
     "text": [
      "HeyWhatsupbro\n"
     ]
    }
   ],
   "source": [
    "string = \"Hey! What's up bro?\"\n",
    "\n",
    "new_string = ''.join(char for char in string if char.isalnum())\n",
    "print(new_string)"
   ]
  },
  {
   "cell_type": "code",
   "execution_count": 30,
   "metadata": {},
   "outputs": [
    {
     "name": "stdout",
     "output_type": "stream",
     "text": [
      "65 119ise 111ld 111wl 108ived 105n 97n 111ak\n"
     ]
    }
   ],
   "source": [
    "def transformar_string(entrada):\n",
    "    palavras = entrada.split()  # Dividir a entrada em palavras\n",
    "    saida = \"\"\n",
    "\n",
    "    for palavra in palavras:\n",
    "        if palavra.isalpha():\n",
    "            saida += str(ord(palavra[0])) + palavra[1:]\n",
    "        else:\n",
    "            saida += palavra\n",
    "\n",
    "        saida += \" \"\n",
    "\n",
    "    return saida.strip()\n",
    "\n",
    "\n",
    "# Exemplo de uso da função\n",
    "entrada = \"A wise   old   owl   lived   in   an  oak\"\n",
    "saida = transformar_string(entrada)\n",
    "print(saida)\n"
   ]
  },
  {
   "cell_type": "code",
   "execution_count": 26,
   "metadata": {},
   "outputs": [
    {
     "name": "stdout",
     "output_type": "stream",
     "text": [
      "['A', ' ', 'w', 'i', 's', 'e', ' ', 'o', 'l', 'd', ' ', 'o', 'w', 'l', ' ', 'l', 'i', 'v', 'e', 'd', ' ', 'i', 'n', ' ', 'a', 'n', ' ', 'o', 'a', 'k']\n"
     ]
    }
   ],
   "source": [
    "\n",
    "def encrypt_this(text):\n",
    "    \n",
    "    \n",
    "    \n",
    "encrypt_this(\"A wise old owl lived in an oak\")\n",
    "#encrypt_this()## entrada =         \"A wise   old   owl   lived   in   an  oak\"\n",
    "    ## saida esperada = \"65 119esi 111dl 111lw 108dvei 105n 97n 111ka\""
   ]
  },
  {
   "cell_type": "code",
   "execution_count": 8,
   "metadata": {},
   "outputs": [
    {
     "data": {
      "text/plain": [
       "'heljo'"
      ]
     },
     "execution_count": 8,
     "metadata": {},
     "output_type": "execute_result"
    }
   ],
   "source": [
    "def decode(st):\n",
    "    mapeamento = {'1': 'a', '2': 'e', '3': 'i', '4': 'o', '5': 'u'}\n",
    "    for vogal, num in mapeamento.items():\n",
    "        st = st.replace(vogal, num)\n",
    "    return st\n",
    "decode('h2ll4')\n",
    "\n",
    "def decode(st):\n",
    "    mapeamento = {'a': '1', 'e': '2', 'i': '3', 'o': '4', 'u': '5'}\n",
    "    for vogal, num in mapeamento.items():\n",
    "        st = st.replace(num, vogal)\n",
    "    return st\n",
    "decode('h2lj4')"
   ]
  },
  {
   "cell_type": "code",
   "execution_count": 4,
   "metadata": {},
   "outputs": [
    {
     "name": "stdout",
     "output_type": "stream",
     "text": [
      "Olakjhvju, mundo!\n"
     ]
    },
    {
     "data": {
      "text/plain": [
       "('p4lly, c4m4 v4cê 2stá?', ':o##], /o$o _o/ê e()á?')"
      ]
     },
     "execution_count": 4,
     "metadata": {},
     "output_type": "execute_result"
    }
   ],
   "source": [
    "texto = \"Olá, mundo!\"\n",
    "tabela = str.maketrans(\"Olá\", \"Ola\")\n",
    "\n",
    "texto_substituido = texto.translate(tabela)\n",
    "print(texto_substituido)\n",
    "\n",
    "def decotifica(str):\n",
    "    mudanca_vogal = str.maketrans(\"aeiou\", \"12345\")\n",
    "    mudanca_concoante = str.maketrans(\"bcdfghjklmnpqrstvwxyz\", \"^/*-+.!@#$%:&*()_+{]!\")\n",
    "\n",
    "    text_concoante = str.translate(mudanca_concoante)\n",
    "    text_subs = str.translate(mudanca_vogal)\n",
    "    return text_subs, text_concoante\n",
    "decotifica(\"polly, como você está?\")"
   ]
  },
  {
   "cell_type": "code",
   "execution_count": 7,
   "metadata": {},
   "outputs": [
    {
     "name": "stdout",
     "output_type": "stream",
     "text": [
      "OratoroeuaroupadoreideRoma.\n"
     ]
    }
   ],
   "source": [
    "import re\n",
    "\n",
    "string = \"O rato roeu a roupa do rei de Roma.\"\n",
    "padrão = ' '\n",
    "substituição = \"edu\"\n",
    "\n",
    "nova_string = re.sub(padrão, '', string)\n",
    "print(nova_string)"
   ]
  },
  {
   "cell_type": "code",
   "execution_count": 3,
   "metadata": {},
   "outputs": [
    {
     "data": {
      "text/plain": [
       "['0.2', '3.1', '3.5', '7.5']"
      ]
     },
     "execution_count": 3,
     "metadata": {},
     "output_type": "execute_result"
    }
   ],
   "source": [
    "def to_float_array(arr): \n",
    "    return sorted(list(map(str, arr)))\n",
    "to_float_array([3.5, 3.1, 7.5, 0.2])"
   ]
  },
  {
   "cell_type": "code",
   "execution_count": 2,
   "metadata": {},
   "outputs": [
    {
     "data": {
      "text/plain": [
       "'çds, sssssssçl sdw j'"
      ]
     },
     "execution_count": 2,
     "metadata": {},
     "output_type": "execute_result"
    }
   ],
   "source": [
    "def print_array(arr):\n",
    "    return ','.join(map(str, arr))\n",
    "print_array(['çds, sssssssçl sdw j'])"
   ]
  },
  {
   "cell_type": "code",
   "execution_count": 13,
   "metadata": {},
   "outputs": [
    {
     "data": {
      "text/plain": [
       "'(E#at me.!!)'"
      ]
     },
     "execution_count": 13,
     "metadata": {},
     "output_type": "execute_result"
    }
   ],
   "source": [
    "import re\n",
    "def string_clean(s):\n",
    "            #com \\s retira espaços em branco\n",
    "            #com \\w retira letra em num e deixa somente caractere especial\n",
    "    padrao = r'\\d+'  # Regex para encontrar números\n",
    "\n",
    "    texto_sem_numeros = re.sub(padrao, '', s) # o ato de substituir\n",
    "    return texto_sem_numeros\n",
    "string_clean(\"(E3#at m2e2.2!!)\")"
   ]
  },
  {
   "cell_type": "code",
   "execution_count": 24,
   "metadata": {},
   "outputs": [
    {
     "data": {
      "text/plain": [
       "'zzzzzzzzzzzzzz'"
      ]
     },
     "execution_count": 24,
     "metadata": {},
     "output_type": "execute_result"
    }
   ],
   "source": [
    "def contamination(text, char):\n",
    "    return char * len(text)\n",
    "contamination('bvcvnhhhhhhrer', 'z')     "
   ]
  },
  {
   "cell_type": "code",
   "execution_count": 7,
   "metadata": {},
   "outputs": [
    {
     "data": {
      "text/plain": [
       "2"
      ]
     },
     "execution_count": 7,
     "metadata": {},
     "output_type": "execute_result"
    }
   ],
   "source": [
    "def even_numbers(arr,n):\n",
    "    # pegar aquantidade n de ultimos numeros par\n",
    "    for i in arr:\n",
    "        if i % 2 == 0:\n",
    "            return i\n",
    "even_numbers([1, 2, 3, 4, 5, 6, 7, 8, 9], 3)"
   ]
  },
  {
   "cell_type": "code",
   "execution_count": 20,
   "metadata": {},
   "outputs": [
    {
     "name": "stdout",
     "output_type": "stream",
     "text": [
      "[-8, 26]\n"
     ]
    }
   ],
   "source": [
    "lista = [-22, 5, 3, 11, 26, -6, -7, -8, -9, -8, 26]\n",
    "n = 2\n",
    "lista_sem_impar = []\n",
    "for i in lista:\n",
    "    if i % 2 == 0:\n",
    "        lista_sem_impar.append(i)\n",
    "print(lista_sem_impar[-n:])"
   ]
  },
  {
   "cell_type": "code",
   "execution_count": 21,
   "metadata": {},
   "outputs": [
    {
     "data": {
      "text/plain": [
       "True"
      ]
     },
     "execution_count": 21,
     "metadata": {},
     "output_type": "execute_result"
    }
   ],
   "source": [
    "def power_of_two(x):\n",
    "    # ambos os bits precisa ser igual a 1 se não é 0\n",
    "    #compara o val passado com ele no inicio\n",
    "    # se 0 True else False\n",
    "    #exemplo:\n",
    "#     1000   (8 em binário)\n",
    "#   & 0111   (7 em binário)\n",
    "#    ------\n",
    "#     0000\n",
    "    \n",
    "    return x != 0 and (x & (x - 1)) == 0\n",
    "power_of_two(2)"
   ]
  },
  {
   "cell_type": "markdown",
   "metadata": {},
   "source": [
    "passar em: \n",
    "    (\"1\", 1),\n",
    "    (\"123\", 123),\n",
    "    (\"this is number: 7\", 7),\n",
    "    (\"$100 000 000\", 100000000),\n",
    "    (\"hell5o wor6ld\", 56),\n",
    "    (\"one1 two2 three3 four4 five5\", 12345)"
   ]
  },
  {
   "cell_type": "code",
   "execution_count": 37,
   "metadata": {},
   "outputs": [
    {
     "data": {
      "text/plain": [
       "56"
      ]
     },
     "execution_count": 37,
     "metadata": {},
     "output_type": "execute_result"
    }
   ],
   "source": [
    "def get_number_from_string(string):\n",
    "    \n",
    "    soment_num = []\n",
    "    for i in string:\n",
    "        if i.isdigit():\n",
    "            soment_num.append(i)\n",
    "    \n",
    "    soment_num = str(soment_num).replace(\"[\", \"\").replace(\"]\", \"\").replace(\",\", \"\").replace(\"'\", \"\").replace(\" \", \"\")\n",
    "    return int(soment_num)\n",
    "\n",
    "get_number_from_string(\"hell5o wor6ld\")# retornar 56"
   ]
  },
  {
   "cell_type": "code",
   "execution_count": 42,
   "metadata": {},
   "outputs": [
    {
     "data": {
      "text/plain": [
       "56"
      ]
     },
     "execution_count": 42,
     "metadata": {},
     "output_type": "execute_result"
    }
   ],
   "source": [
    "def get_number_from_string(string):\n",
    "    soment_num = []\n",
    "    for i in string:\n",
    "        if i.isdigit():\n",
    "            soment_num.append(i)\n",
    "    chars = \"[],'\"\n",
    "    res = str(soment_num).translate(str.maketrans('', '', chars)).replace(' ', '')\n",
    "    return int(res)\n",
    "\n",
    "get_number_from_string(\"hell5o wor6ld\")"
   ]
  },
  {
   "cell_type": "code",
   "execution_count": 38,
   "metadata": {},
   "outputs": [
    {
     "data": {
      "text/plain": [
       "56"
      ]
     },
     "execution_count": 38,
     "metadata": {},
     "output_type": "execute_result"
    }
   ],
   "source": [
    "def get_number_from_string(string):\n",
    "    return int(''.join(i for i in string if i.isdigit()))\n",
    "get_number_from_string(\"hell5o wor6ld\")"
   ]
  },
  {
   "cell_type": "markdown",
   "metadata": {},
   "source": [
    " test.assert_equals(warn_the_sheep(['sheep', 'sheep', 'sheep', 'sheep', 'sheep', 'wolf', 'sheep', 'sheep']), 'Oi! Sheep number 2! You are about to be eaten by a wolf!')\n",
    "\n",
    "        test.assert_equals(warn_the_sheep(['sheep', 'wolf', 'sheep', 'sheep', 'sheep', 'sheep', 'sheep']), 'Oi! Sheep number 5! You are about to be eaten by a wolf!')\n",
    " \n",
    "        test.assert_equals(warn_the_sheep(['wolf', 'sheep', 'sheep', 'sheep', 'sheep', 'sheep', 'sheep']), 'Oi! Sheep number 6! You are about to be eaten by a wolf!')\n",
    " \n",
    "        test.assert_equals(warn_the_sheep(['sheep', 'wolf', 'sheep']), 'Oi! Sheep number 1! You are about to be eaten by a wolf!')\n",
    " \n",
    "        test.assert_equals(warn_the_sheep(['sheep', 'sheep', 'wolf']), 'Pls go away and stop eating my sheep')\n"
   ]
  },
  {
   "cell_type": "code",
   "execution_count": 48,
   "metadata": {},
   "outputs": [
    {
     "name": "stdout",
     "output_type": "stream",
     "text": [
      "Oi! Sheep number 6! You are about to be eaten by a wolf!\n"
     ]
    }
   ],
   "source": [
    "def warn_the_sheep(queue):\n",
    "    if queue[-1] == 'wolf':\n",
    "        return \"Pls go away and stop eating my sheep\"\n",
    "    else:\n",
    "        posicao_wolf = queue.index('wolf')\n",
    "        de_wolf_ao_final = queue[posicao_wolf:]\n",
    "        posicao_ultimo_sheep = queue.index(de_wolf_ao_final[-1])\n",
    "        numero_sheep = len(queue) - posicao_ultimo_sheep - 1\n",
    "        return f\"Oi! Sheep number {numero_sheep}! You are about to be eaten by a wolf!\"\n",
    "\n",
    "resultado = warn_the_sheep(['sheep', 'wolf', 'sheep', 'sheep', 'sheep', 'sheep', 'sheep'])\n",
    "print(resultado)"
   ]
  },
  {
   "cell_type": "code",
   "execution_count": 10,
   "metadata": {},
   "outputs": [
    {
     "name": "stdout",
     "output_type": "stream",
     "text": [
      "{12: 3, 10: 2, 8: 1, 7: 1, 6: 1, 4: 1}\n"
     ]
    },
    {
     "data": {
      "text/plain": [
       "12"
      ]
     },
     "execution_count": 10,
     "metadata": {},
     "output_type": "execute_result"
    }
   ],
   "source": [
    "def highest_rank(arr):\n",
    "    # Dicionário para armazenar a contagem de ocorrências de cada elemento\n",
    "    counts = {}\n",
    "    for x in arr:\n",
    "        counts[x] = counts.get(x, 0) + 1\n",
    "\n",
    "# Aqui, o código atualiza o dicionário \"counts\" com a \n",
    "# contagem de ocorrências do elemento \"x\". \n",
    "# Se a chave \"x\" já existir no dicionário, \n",
    "# o valor associado a ela será obtido usando \n",
    "# \"counts.get(x, 0)\", e 1 será adicionado a esse valor \n",
    "# para aumentar a contagem de ocorrências. \n",
    "# Se a chave \"x\" não existir no dicionário, \n",
    "# counts.get(x, 0) retornará 0 (pois o valor padrão é 0), \n",
    "# e 1 será adicionado a 0, criando a entrada com o valor 1 \n",
    "# para o elemento \"x\".\n",
    "\n",
    "\n",
    "    # Encontrar o elemento com a maior contagem\n",
    "    max_count = max(counts.values())\n",
    "    most_frequent_elements = [x for x in counts if counts[x] == max_count]\n",
    "\n",
    "    # Resolver empate retornando o maior entre os elementos mais frequentes\n",
    "    result = max(most_frequent_elements)\n",
    "\n",
    "    return result\n",
    "\n",
    "\n",
    "highest_rank([12, 10, 8, 12, 7, 6, 4, 10, 12])"
   ]
  },
  {
   "cell_type": "code",
   "execution_count": 5,
   "metadata": {},
   "outputs": [
    {
     "name": "stdout",
     "output_type": "stream",
     "text": [
      "[12, 10, 12]\n"
     ]
    }
   ],
   "source": [
    "nums = [12, 10, 8, 12, 7, 6, 4, 10, 12]\n",
    " \n",
    "dup = [x for i, x in enumerate(nums) if i != nums.index(x)]\n",
    "print(dup)  # [1, 5, 1]\n",
    " "
   ]
  },
  {
   "cell_type": "markdown",
   "metadata": {},
   "source": [
    "Entrada\n",
    "A entrada sempre será uma string, por exemplo, \"Friday May 2, 7pm\". \n",
    "\n",
    "Saída\n",
    "A saída será a string encurtada, por exemplo, \"Friday May 2\"."
   ]
  },
  {
   "cell_type": "code",
   "execution_count": 38,
   "metadata": {},
   "outputs": [
    {
     "data": {
      "text/plain": [
       "'Wed Seteber 1'"
      ]
     },
     "execution_count": 38,
     "metadata": {},
     "output_type": "execute_result"
    }
   ],
   "source": [
    "def shorten_to_date(long_date):\n",
    "    date_new = long_date.maketrans(\",pm\", \"###\")\n",
    "    date_tradu = long_date.translate(date_new)\n",
    "    date_tradu = date_tradu.replace(\"#\", \"\")\n",
    "    new_date = date_tradu[:-2]\n",
    "    if new_date[-1] == \" \":\n",
    "        return new_date[:-1]\n",
    "    else:\n",
    "        return new_date\n",
    "shorten_to_date(\"Wed September 1, 3am\")"
   ]
  },
  {
   "cell_type": "code",
   "execution_count": 4,
   "metadata": {},
   "outputs": [
    {
     "data": {
      "text/plain": [
       "'19:05:45'"
      ]
     },
     "execution_count": 4,
     "metadata": {},
     "output_type": "execute_result"
    }
   ],
   "source": [
    "def timeConversion(s):\n",
    "\n",
    "    if s[-2:] == \"AM\" and s[:2] == \"12\": \n",
    "# se s for \"12:34:56AM\", o resultado será \"00:34:56\n",
    "        return \"00\" + s[2:-2] \n",
    "    elif s[-2:] == \"AM\": \n",
    "        return s[:-2] \n",
    "    elif s[-2:] == \"PM\" and s[:2] == \"12\": \n",
    "        return s[:-2] \n",
    "    else: \n",
    "        return str(int(s[:2]) + 12) + s[2:8] \n",
    "\n",
    "timeConversion(\"07:05:45PM\")"
   ]
  },
  {
   "cell_type": "code",
   "execution_count": 5,
   "metadata": {},
   "outputs": [
    {
     "data": {
      "text/plain": [
       "'Two'"
      ]
     },
     "execution_count": 5,
     "metadata": {},
     "output_type": "execute_result"
    }
   ],
   "source": [
    "def switch_it_up(n):\n",
    "    return ['Zero','One','Two','Three','Four','Five','Six','Seven','Eight','Nine'][n]\n",
    "switch_it_up(2)"
   ]
  },
  {
   "cell_type": "code",
   "execution_count": 7,
   "metadata": {},
   "outputs": [
    {
     "data": {
      "text/plain": [
       "'100'"
      ]
     },
     "execution_count": 7,
     "metadata": {},
     "output_type": "execute_result"
    }
   ],
   "source": [
    "def add_binary(a,b):\n",
    "# transformar a soma de a b em binario\n",
    "    return bin(a+b)[2:]\n",
    "add_binary(3, 1)"
   ]
  },
  {
   "cell_type": "code",
   "execution_count": 21,
   "metadata": {},
   "outputs": [
    {
     "data": {
      "text/plain": [
       "'no'"
      ]
     },
     "execution_count": 21,
     "metadata": {},
     "output_type": "execute_result"
    }
   ],
   "source": [
    "def is_sorted_and_how(arr):\n",
    "    # 3 verificacao na lista\n",
    "    # se ordenado\n",
    "    if arr == sorted(arr):\n",
    "        return 'yes, ascending'\n",
    "    \n",
    "    elif arr == sorted(arr, reverse=True):\n",
    "        return 'yes, descending'\n",
    "    else:\n",
    "        return 'no'\n",
    "is_sorted_and_how([15, 7, 3, 7])"
   ]
  },
  {
   "cell_type": "code",
   "execution_count": 22,
   "metadata": {},
   "outputs": [
    {
     "data": {
      "text/plain": [
       "'no'"
      ]
     },
     "execution_count": 22,
     "metadata": {},
     "output_type": "execute_result"
    }
   ],
   "source": [
    "def is_sorted_and_how(arr):\n",
    "    if arr == sorted(arr):\n",
    "        return 'yes, ascending' \n",
    "    elif arr == sorted(arr)[::-1]:\n",
    "        return 'yes, descending'\n",
    "    else:\n",
    "        return 'no'\n",
    "is_sorted_and_how([15, 7, 3, 7])"
   ]
  },
  {
   "cell_type": "code",
   "execution_count": 5,
   "metadata": {},
   "outputs": [
    {
     "data": {
      "text/plain": [
       "1"
      ]
     },
     "execution_count": 5,
     "metadata": {},
     "output_type": "execute_result"
    }
   ],
   "source": [
    "import math\n",
    "def litres(time):\n",
    "    water_time = time / 2\n",
    "    return math.floor(water_time)\n",
    "litres(2)"
   ]
  },
  {
   "cell_type": "code",
   "execution_count": 6,
   "metadata": {},
   "outputs": [
    {
     "data": {
      "text/plain": [
       "2.0"
      ]
     },
     "execution_count": 6,
     "metadata": {},
     "output_type": "execute_result"
    }
   ],
   "source": [
    "def find_average(numbers):\n",
    "    if numbers == []:\n",
    "        return 0\n",
    "    else:\n",
    "        return sum(numbers) / len(numbers)\n",
    "find_average([3, 2, 1])"
   ]
  },
  {
   "cell_type": "code",
   "execution_count": 7,
   "metadata": {},
   "outputs": [
    {
     "data": {
      "text/plain": [
       "'Keep at it until you get it'"
      ]
     },
     "execution_count": 7,
     "metadata": {},
     "output_type": "execute_result"
    }
   ],
   "source": [
    "def hoop_count(n):\n",
    "    return \"Great, now move on to tricks\" if n >= 10 else \"Keep at it until you get it\"\n",
    "hoop_count(4)"
   ]
  },
  {
   "cell_type": "code",
   "execution_count": 14,
   "metadata": {},
   "outputs": [
    {
     "data": {
      "text/plain": [
       "13"
      ]
     },
     "execution_count": 14,
     "metadata": {},
     "output_type": "execute_result"
    }
   ],
   "source": [
    "def positive_sum(arr):\n",
    "    new_arr = []\n",
    "    for i in arr:\n",
    "        if i >0:\n",
    "            new_arr.append(i)\n",
    "    return sum(new_arr)\n",
    "positive_sum([1,-2,3,4,5])#,13)"
   ]
  },
  {
   "cell_type": "code",
   "execution_count": 47,
   "metadata": {},
   "outputs": [
    {
     "data": {
      "text/plain": [
       "53"
      ]
     },
     "execution_count": 47,
     "metadata": {},
     "output_type": "execute_result"
    }
   ],
   "source": [
    "def century(year):\n",
    "    # se [-1] == 0 retorna os 2 primeiros digitos se nao pegar esse valor e somar + 1\n",
    "    new_year = str(year)\n",
    "    if len(new_year) <= 2:\n",
    "        return 1\n",
    "    elif len(new_year) <= 3 and new_year[-1] == \"0\":\n",
    "        valo = new_year[0:1]\n",
    "        return int(valo)\n",
    "    elif len(new_year) <= 3 and new_year[-1] != \"0\":\n",
    "        val = new_year[0:1]\n",
    "        return int(val) + 1\n",
    "    elif new_year[-1] != \"0\":\n",
    "        str_val = new_year[0:2]\n",
    "        return int(str_val) + 1\n",
    "    elif new_year[-1] == \"0\":\n",
    "        new = new_year[0:2]\n",
    "        return int(new)\n",
    "century(5320)"
   ]
  },
  {
   "cell_type": "code",
   "execution_count": 17,
   "metadata": {},
   "outputs": [
    {
     "data": {
      "text/plain": [
       "[-1, 2, -3, 4, -5]"
      ]
     },
     "execution_count": 17,
     "metadata": {},
     "output_type": "execute_result"
    }
   ],
   "source": [
    "def invert(lst):\n",
    "    # cada valor em especifico deve mudar o seu valor -+\n",
    "    new_lst = []\n",
    "    for i in lst:\n",
    "        i *= -1\n",
    "        new_lst.append(i)\n",
    "    return new_lst\n",
    "invert([1,-2,3,-4,5])# [-1,2,-3,4,-5]"
   ]
  },
  {
   "cell_type": "code",
   "execution_count": null,
   "metadata": {},
   "outputs": [],
   "source": [
    "def digitize(n):\n",
    "    return\n",
    "digitize(876876876)#[8,7,6,8,7,6876]"
   ]
  },
  {
   "cell_type": "code",
   "execution_count": 13,
   "metadata": {},
   "outputs": [
    {
     "data": {
      "text/plain": [
       "'drink coke'"
      ]
     },
     "execution_count": 13,
     "metadata": {},
     "output_type": "execute_result"
    }
   ],
   "source": [
    "def people_with_age_drink(age):\n",
    "\n",
    "    if age <= 13:\n",
    "        return \"drink toddy\"\n",
    "    elif age <= 17:\n",
    "        return \"drink coke\"\n",
    "    elif age <= 20:\n",
    "        return \"drink beer\"\n",
    "    else:\n",
    "        return \"drink whisky\"\n",
    "    \n",
    "people_with_age_drink(15)"
   ]
  },
  {
   "cell_type": "markdown",
   "metadata": {},
   "source": [
    "13 --> \"drink toddy\"\n",
    "\n",
    "17 --> \"drink coke\"\n",
    "\n",
    "18 --> \"drink beer\"\n",
    "\n",
    "20 --> \"drink beer\"\n",
    "\n",
    "30 --> \"drink whisky\"\n",
    "\n",
    "Children under 14 old.\n",
    "Teens under 18 old.\n",
    "Young under 21 old.\n",
    "Adults have 21 or more."
   ]
  },
  {
   "cell_type": "markdown",
   "metadata": {},
   "source": []
  },
  {
   "cell_type": "code",
   "execution_count": 11,
   "metadata": {},
   "outputs": [
    {
     "ename": "UnboundLocalError",
     "evalue": "local variable 'i_lower' referenced before assignment",
     "output_type": "error",
     "traceback": [
      "\u001b[1;31m---------------------------------------------------------------------------\u001b[0m",
      "\u001b[1;31mUnboundLocalError\u001b[0m                         Traceback (most recent call last)",
      "Cell \u001b[1;32mIn[11], line 15\u001b[0m\n\u001b[0;32m     10\u001b[0m         \u001b[39mreturn\u001b[39;00m s\u001b[39m.\u001b[39mupper()\n\u001b[0;32m     11\u001b[0m         \u001b[39m#if len(s.upper()) >= len(s.lower()):\u001b[39;00m\n\u001b[0;32m     12\u001b[0m     \u001b[39m#    return s.upper()\u001b[39;00m\n\u001b[0;32m     13\u001b[0m     \u001b[39m#else:\u001b[39;00m\n\u001b[0;32m     14\u001b[0m     \u001b[39m#    return s.lower()\u001b[39;00m\n\u001b[1;32m---> 15\u001b[0m solve(\u001b[39m\"\u001b[39;49m\u001b[39mCOde\u001b[39;49m\u001b[39m\"\u001b[39;49m)\u001b[39m#CODE, \"coDe\" = code, \"COde\" \"coDE\" = code\u001b[39;00m\n",
      "Cell \u001b[1;32mIn[11], line 5\u001b[0m, in \u001b[0;36msolve\u001b[1;34m(s)\u001b[0m\n\u001b[0;32m      3\u001b[0m \u001b[39mdef\u001b[39;00m \u001b[39msolve\u001b[39m(s):\n\u001b[0;32m      4\u001b[0m     \u001b[39mfor\u001b[39;00m i \u001b[39min\u001b[39;00m s:\n\u001b[1;32m----> 5\u001b[0m         i_lower \u001b[39m+\u001b[39m\u001b[39m=\u001b[39m i\u001b[39m.\u001b[39mlower()\n\u001b[0;32m      6\u001b[0m         i_lower \u001b[39m=\u001b[39m \u001b[39mlen\u001b[39m(i)\n\u001b[0;32m      7\u001b[0m         \u001b[39mprint\u001b[39m(i_lower)\n",
      "\u001b[1;31mUnboundLocalError\u001b[0m: local variable 'i_lower' referenced before assignment"
     ]
    }
   ],
   "source": [
    "#fazer o mínimo possível de alterações.\n",
    "#se a string contiver o mesmo número de letras maiúsculas e minúsculas, converta a string para minúsculas.\n",
    "def solve(s):\n",
    "    for i in s:\n",
    "        i_lower += i.lower()\n",
    "        i_lower = len(i)\n",
    "        print(i_lower)\n",
    "        if len(i.lower()) <= 2:\n",
    "            return s.lower()\n",
    "        return s.upper()\n",
    "        #if len(s.upper()) >= len(s.lower()):\n",
    "    #    return s.upper()\n",
    "    #else:\n",
    "    #    return s.lower()\n",
    "solve(\"COde\")#CODE, \"coDe\" = code, \"COde\" \"coDE\" = code"
   ]
  },
  {
   "cell_type": "code",
   "execution_count": 55,
   "metadata": {},
   "outputs": [
    {
     "name": "stdout",
     "output_type": "stream",
     "text": [
      "CODE\n",
      "CODE\n",
      "CODE\n",
      "CODE\n"
     ]
    }
   ],
   "source": [
    "# problema #CODE, \"coDe\" = code, \"COde\" \"coDE\" = code\n",
    "word = \"Code\"\n",
    "\n",
    "for i in word:\n",
    "    if i == i.lower() and len(i) > 2:\n",
    "        print(word.lower())\n",
    "    else:\n",
    "        print(word.upper())"
   ]
  },
  {
   "cell_type": "code",
   "execution_count": 77,
   "metadata": {},
   "outputs": [
    {
     "name": "stdout",
     "output_type": "stream",
     "text": [
      "CODe\n"
     ]
    }
   ],
   "source": [
    "def solve(s):\n",
    "    num_upper = sum(1 for c in s if c.isupper())  # Conte o número de maiúsculas na string original\n",
    "    \n",
    "    if num_upper == len(s) - num_upper:  # Verifique se há o mesmo número de maiúsculas e minúsculas\n",
    "        return s.lower()  # Se sim, retorne a string em minúsculas\n",
    "    elif len(s) <= 2:  # Verifique se o comprimento da string é menor ou igual a 2\n",
    "        return s.lower()  # Se sim, retorne a string em minúsculas\n",
    "    else:\n",
    "        return s  # Caso contrário, retorne a string original\n",
    "\n",
    "print(solve(\"CODe\"))"
   ]
  },
  {
   "cell_type": "markdown",
   "metadata": {},
   "source": [
    "if arr == [] or arr == None or len(arr) <= 2:\n",
    "\n",
    "        return 0\n",
    "\n",
    "    else:\n",
    "\n",
    "        arr_organizada = sorted(arr)\n",
    "\n",
    "        arr_sem_menor_maior = arr_organizada\n",
    "       \n",
    "        [1:-1]\n",
    "\n",
    "        return sum(arr_sem_menor_maior)"
   ]
  },
  {
   "cell_type": "code",
   "execution_count": 7,
   "metadata": {},
   "outputs": [
    {
     "data": {
      "text/plain": [
       "8"
      ]
     },
     "execution_count": 7,
     "metadata": {},
     "output_type": "execute_result"
    }
   ],
   "source": [
    "def sum_array(arr):\n",
    "    \n",
    "    if arr == [] or arr == None or len(arr) <= 2:\n",
    "        return 0\n",
    "    else:\n",
    "        arr_organizada = sorted(arr)\n",
    "        arr_sem_menor_maior = arr_organizada[1:-1]\n",
    "        return sum(arr_sem_menor_maior)\n",
    "\n",
    "sum_array([6, 1, 2, 10]) #16\n"
   ]
  },
  {
   "cell_type": "code",
   "execution_count": null,
   "metadata": {},
   "outputs": [],
   "source": [
    "def sum_array(arr):\n",
    "    if arr == None or len(arr) < 3:\n",
    "        return 0\n",
    "    return sum(arr) - max(arr) - min(arr)"
   ]
  },
  {
   "cell_type": "code",
   "execution_count": 14,
   "metadata": {},
   "outputs": [
    {
     "data": {
      "text/plain": [
       "[-20, -10, -5, 0, 6, 7, 8, 9, 10, 25, 35, 36, 37, 38, 39, 40, 50, 62]"
      ]
     },
     "execution_count": 14,
     "metadata": {},
     "output_type": "execute_result"
    }
   ],
   "source": [
    "def merge_arrays(arr1, arr2) -> list:\n",
    "    #new_arr = list(set(arr1))+ list(set(arr2))\n",
    "    return sorted(list(set(arr1+arr2)))\n",
    "\n",
    "\n",
    "merge_arrays([0, 35, 36, 37, 6, 7, 8, 9, 10, 38],\n",
    "             [ -20, 39, 40, 50, -10, 25, -5, 62])"
   ]
  },
  {
   "cell_type": "markdown",
   "metadata": {},
   "source": [
    "[0, 35, 36, 37, 6, 7, 8, 9, 10, 38, -20, 39, 40, 50, -10, 25, -5, 62] \n",
    "\n",
    "should equal \n",
    "\n",
    "[-20, -10, -5, 0, 6, 7, 8, 9, 10, 25, 35, 36, 37, 38, 39, 40, 50, 62]"
   ]
  },
  {
   "cell_type": "code",
   "execution_count": 22,
   "metadata": {},
   "outputs": [
    {
     "name": "stdout",
     "output_type": "stream",
     "text": [
      "['Hello', 'hEllo', 'heLlo', 'helLo', 'hellO']\n"
     ]
    }
   ],
   "source": [
    "def wave(s):\n",
    "    results = []\n",
    "    \n",
    "    for i in range(len(s)):\n",
    "        waved = s[:i] + s[i].upper() + s[i+1:]\n",
    "        results.append(waved)\n",
    "    \n",
    "    return results\n",
    "\n",
    "result = wave(\"hello\")\n",
    "print(result)  # [\"Hello\", \"hEllo\", \"heLlo\", \"helLo\", \"hellO\"]"
   ]
  },
  {
   "cell_type": "code",
   "execution_count": 1,
   "metadata": {},
   "outputs": [
    {
     "name": "stdout",
     "output_type": "stream",
     "text": [
      "[0, 0, 0]\n"
     ]
    }
   ],
   "source": [
    "def variacao_vall_list():\n",
    "    x = int(input())\n",
    "    y = int(input())\n",
    "    z = int(input())\n",
    "\n",
    "    n = int(input())\n",
    "    \n",
    "    for x in range(n):\n",
    "        for y in range(n):\n",
    "            for z in range(n):\n",
    "                print(f'[{x}, {y}, {z}]')#a soma dles!=n\n",
    "\n",
    "variacao_vall_list()\n"
   ]
  },
  {
   "cell_type": "code",
   "execution_count": 23,
   "metadata": {},
   "outputs": [
    {
     "name": "stdout",
     "output_type": "stream",
     "text": [
      "487\n",
      "244\n"
     ]
    }
   ],
   "source": [
    "import math\n",
    "def predict_age(age_1, age_2, age_3, age_4, age_5, age_6, age_7, age_8):\n",
    "# Multiplique cada número por si mesmo.\n",
    "#Adicione-os todos juntos.\n",
    "#Pegue a raiz quadrada do resultado.\n",
    "#Divida por dois.\n",
    "# o resultado deve ser arredondado para o inteiro mais próximo.\n",
    "    ages = [age_1, age_2, age_3, age_4, age_5, age_6, age_7, age_8]\n",
    "    soma_age = sum(ages)\n",
    "    print(soma_age)\n",
    "    new_add_age = []\n",
    "    for age in ages:\n",
    "        age *= age\n",
    "        age = math.sqrt(age)\n",
    "        age /= 2\n",
    "        age = round(age)\n",
    "        new_add_age.append(age)\n",
    "    print(sum(new_add_age)) \n",
    "    \n",
    "predict_age(65,60,75,55,60,63,64,45)#86"
   ]
  },
  {
   "cell_type": "code",
   "execution_count": 44,
   "metadata": {},
   "outputs": [
    {
     "data": {
      "text/plain": [
       "86"
      ]
     },
     "execution_count": 44,
     "metadata": {},
     "output_type": "execute_result"
    }
   ],
   "source": [
    "import math\n",
    "\n",
    "def age(age_1, age_2, age_3, age_4, age_5, \n",
    "        age_6, age_7, age_8):\n",
    "    \n",
    "    ages = [age_1, age_2, age_3, age_4, \n",
    "            age_5, age_6, age_7, age_8]\n",
    "\n",
    "    new_ages = []\n",
    "    for age in ages:\n",
    "        age *= age\n",
    "        new_ages.append(age)\n",
    "        soma_new_age = sum(new_ages)\n",
    "        raiz_age_result = math.sqrt(soma_new_age)\n",
    "        raiz_age_result /= 2\n",
    "        raiz_age_result = math.floor(raiz_age_result)\n",
    "    return raiz_age_result\n",
    "        \n",
    "        \n",
    "\n",
    "age(65,60,75,55,60,63,64,45)"
   ]
  },
  {
   "cell_type": "code",
   "execution_count": 7,
   "metadata": {},
   "outputs": [
    {
     "data": {
      "text/plain": [
       "3"
      ]
     },
     "execution_count": 7,
     "metadata": {},
     "output_type": "execute_result"
    }
   ],
   "source": [
    "def find_short(s):\n",
    "    new_s = s.split()\n",
    "    menor_s = []\n",
    "    for i in new_s:\n",
    "        i = len(i)\n",
    "        menor_s.append(i)\n",
    "    \n",
    "    return min(menor_s)\n",
    "    \n",
    "find_short(\"bitcoin take over the world maybe who knows perhaps\")"
   ]
  },
  {
   "cell_type": "code",
   "execution_count": 3,
   "metadata": {},
   "outputs": [
    {
     "data": {
      "text/plain": [
       "9"
      ]
     },
     "execution_count": 3,
     "metadata": {},
     "output_type": "execute_result"
    }
   ],
   "source": [
    "def sum_of_minimums(numbers):\n",
    "    minimo_val_da_lista = []\n",
    "    for i in numbers:\n",
    "        minimo_val_da_lista.append(min(i))\n",
    "    return sum(minimo_val_da_lista)\n",
    "\n",
    "sum_of_minimums([[ 7,9,8,6,2 ], [6,3,5,4,3], \n",
    "                 [5,8,7,4,5]])#,9)"
   ]
  },
  {
   "cell_type": "markdown",
   "metadata": {},
   "source": [
    "Dado um número positivo n > 1, encontre a \n",
    "\n",
    "decomposição em fator primo de n. O resultado \n",
    "\n",
    "será uma string com o seguinte formato:\n",
    "\n",
    " \"(p1**n1)(p2**n2)...(pk**nk)\""
   ]
  },
  {
   "cell_type": "code",
   "execution_count": 8,
   "metadata": {},
   "outputs": [
    {
     "data": {
      "text/plain": [
       "1"
      ]
     },
     "execution_count": 8,
     "metadata": {},
     "output_type": "execute_result"
    }
   ],
   "source": [
    "def prime_factors(n):\n",
    "    # passos\n",
    "    # como descobrir numeros primos\n",
    "    \n",
    "    for i in str(n):\n",
    "        i = int(i) ** int(i)\n",
    "\n",
    "    return i\n",
    "    #como decompor numeros primos\n",
    "    \n",
    "\n",
    "\n",
    "prime_factors(7775460) \n",
    "# \"(2**2)(3**3)(5)(7)(11**2)(17)\""
   ]
  },
  {
   "cell_type": "code",
   "execution_count": 29,
   "metadata": {},
   "outputs": [
    {
     "name": "stdout",
     "output_type": "stream",
     "text": [
      "[2, 3]\n"
     ]
    }
   ],
   "source": [
    "def is_prime(n):\n",
    "    if n <= 1:\n",
    "        return False\n",
    "    if n <= 3:\n",
    "        return True\n",
    "    if n % 2 == 0 or n % 3 == 0:\n",
    "        return False\n",
    "    i = 5\n",
    "    while i * i <= n:\n",
    "        if n % i == 0 or n % (i + 2) == 0:\n",
    "            return False\n",
    "        i += 6\n",
    "    return True\n",
    "\n",
    "\n",
    "\n",
    "def find_primes_up_to_value(value):\n",
    "    primes = []\n",
    "    for num in range(2, value + 1):\n",
    "        if is_prime(num):\n",
    "            primes.append(num)\n",
    "    print(primes)\n",
    "    \n",
    "\n",
    "value = int(input(\"Digite um valor: \"))\n",
    "prime_numbers = find_primes_up_to_value(value)\n"
   ]
  },
  {
   "cell_type": "code",
   "execution_count": 24,
   "metadata": {},
   "outputs": [
    {
     "data": {
      "text/plain": [
       "3"
      ]
     },
     "execution_count": 24,
     "metadata": {},
     "output_type": "execute_result"
    }
   ],
   "source": [
    "def find_uniq(arr):\n",
    "    dup = [x for i, x in enumerate(arr) if i != arr.index(x)]\n",
    "    diff = list(set(dup) ^ set(arr))\n",
    "    return diff[0]\n",
    "find_uniq([ 2, 1, 1, 2, 3, 4 ])"
   ]
  },
  {
   "cell_type": "code",
   "execution_count": 66,
   "metadata": {},
   "outputs": [
    {
     "name": "stdout",
     "output_type": "stream",
     "text": [
      "3\n",
      "0\n",
      "7\n"
     ]
    }
   ],
   "source": [
    "import math\n",
    "def nearest_sq(n):\n",
    "    raiz_arredondada = math.isqrt(n)\n",
    "    print(raiz_arredondada)\n",
    "    diff_low = n - raiz_arredondada ** 2\n",
    "    print(diff_low)\n",
    "    diff_high = (raiz_arredondada + 1) ** 2 - n\n",
    "    print(diff_high)\n",
    "    if diff_low < diff_high:\n",
    "        \n",
    "        return raiz_arredondada ** 2\n",
    "    else:\n",
    "        return (raiz_arredondada + 1) ** 2\n",
    "\n",
    "resultado = nearest_sq(9)\n",
    "#print(resultado)"
   ]
  },
  {
   "cell_type": "code",
   "execution_count": 85,
   "metadata": {},
   "outputs": [
    {
     "ename": "ValueError",
     "evalue": "['C'] is not in list",
     "output_type": "error",
     "traceback": [
      "\u001b[1;31m---------------------------------------------------------------------------\u001b[0m",
      "\u001b[1;31mValueError\u001b[0m                                Traceback (most recent call last)",
      "Cell \u001b[1;32mIn[85], line 16\u001b[0m\n\u001b[0;32m     10\u001b[0m     \u001b[39mreturn\u001b[39;00m position_word, index_do_word\n\u001b[0;32m     15\u001b[0m     \u001b[39mprint\u001b[39m(dup)\n\u001b[1;32m---> 16\u001b[0m capitals(\u001b[39m\"\u001b[39;49m\u001b[39mCodEWaRs\u001b[39;49m\u001b[39m\"\u001b[39;49m) \u001b[39m#--> [0,3,4,6])\u001b[39;00m\n",
      "Cell \u001b[1;32mIn[85], line 9\u001b[0m, in \u001b[0;36mcapitals\u001b[1;34m(word)\u001b[0m\n\u001b[0;32m      7\u001b[0m     \u001b[39mif\u001b[39;00m i \u001b[39m==\u001b[39m i\u001b[39m.\u001b[39mupper():\n\u001b[0;32m      8\u001b[0m         position_word\u001b[39m.\u001b[39mappend(i)\n\u001b[1;32m----> 9\u001b[0m         index_do_word \u001b[39m=\u001b[39m \u001b[39mlist\u001b[39;49m(word)\u001b[39m.\u001b[39;49mindex(position_word)\n\u001b[0;32m     10\u001b[0m \u001b[39mreturn\u001b[39;00m position_word, index_do_word\n\u001b[0;32m     15\u001b[0m \u001b[39mprint\u001b[39m(dup)\n",
      "\u001b[1;31mValueError\u001b[0m: ['C'] is not in list"
     ]
    }
   ],
   "source": [
    "def capitals(word):\n",
    "    #retorna somente\n",
    "    #o index dos caracteres\n",
    "    # maiusculo\n",
    "    position_word = []\n",
    "    index_word = []\n",
    "    for i in word:\n",
    "        if i == i.upper():\n",
    "            position_word.append(i)\n",
    "            index_do_word = list(word).index(position_word)\n",
    "    return position_word, index_do_word\n",
    "    \n",
    "\n",
    "capitals(\"CodEWaRs\") #--> [0,3,4,6])"
   ]
  },
  {
   "cell_type": "code",
   "execution_count": 86,
   "metadata": {},
   "outputs": [
    {
     "name": "stdout",
     "output_type": "stream",
     "text": [
      "(['C', 'E', 'W', 'R'], [0, 3, 4, 6])\n"
     ]
    }
   ],
   "source": [
    "def capitals(word):\n",
    "    position_word = []\n",
    "    index_do_word = []\n",
    "\n",
    "    for i, letter in enumerate(word):\n",
    "        if letter == letter.upper():\n",
    "            position_word.append(letter)\n",
    "            index_do_word.append(i)\n",
    "    \n",
    "    return position_word, index_do_word\n",
    "\n",
    "result = capitals(\"CodEWaRs\")\n",
    "print(result)"
   ]
  }
 ],
 "metadata": {
  "kernelspec": {
   "display_name": "Python 3.10.0 64-bit",
   "language": "python",
   "name": "python3"
  },
  "language_info": {
   "codemirror_mode": {
    "name": "ipython",
    "version": 3
   },
   "file_extension": ".py",
   "mimetype": "text/x-python",
   "name": "python",
   "nbconvert_exporter": "python",
   "pygments_lexer": "ipython3",
   "version": "3.10.0"
  },
  "orig_nbformat": 4,
  "vscode": {
   "interpreter": {
    "hash": "3e680e901da43b1ff7896a65bb9fdc0d88fdcb475def19e54fa2d4ad7c5b5275"
   }
  }
 },
 "nbformat": 4,
 "nbformat_minor": 2
}
