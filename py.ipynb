{
 "cells": [
  {
   "cell_type": "code",
   "execution_count": 6,
   "metadata": {},
   "outputs": [
    {
     "ename": "ValueError",
     "evalue": "the first two maketrans arguments must have equal length",
     "output_type": "error",
     "traceback": [
      "\u001b[1;31m---------------------------------------------------------------------------\u001b[0m",
      "\u001b[1;31mValueError\u001b[0m                                Traceback (most recent call last)",
      "Cell \u001b[1;32mIn[6], line 8\u001b[0m\n\u001b[0;32m      6\u001b[0m     num \u001b[39m=\u001b[39m \u001b[39mint\u001b[39m(num)\n\u001b[0;32m      7\u001b[0m     \u001b[39mreturn\u001b[39;00m num\n\u001b[1;32m----> 8\u001b[0m min_value([\u001b[39m4\u001b[39;49m, \u001b[39m8\u001b[39;49m, \u001b[39m1\u001b[39;49m, \u001b[39m4\u001b[39;49m])\n",
      "Cell \u001b[1;32mIn[6], line 5\u001b[0m, in \u001b[0;36mmin_value\u001b[1;34m(digits)\u001b[0m\n\u001b[0;32m      3\u001b[0m num \u001b[39m=\u001b[39m \u001b[39msorted\u001b[39m(num)\n\u001b[0;32m      4\u001b[0m \u001b[39m#num = str(num).replace(' ', '').replace(',', '').replace('[', '').replace(']', '')\u001b[39;00m\n\u001b[1;32m----> 5\u001b[0m num \u001b[39m=\u001b[39m \u001b[39mstr\u001b[39;49m(num)\u001b[39m.\u001b[39;49mmaketrans(\u001b[39m'\u001b[39;49m\u001b[39m,[]\u001b[39;49m\u001b[39m'\u001b[39;49m, \u001b[39m'\u001b[39;49m\u001b[39msdff\u001b[39;49m\u001b[39m'\u001b[39;49m)\n\u001b[0;32m      6\u001b[0m num \u001b[39m=\u001b[39m \u001b[39mint\u001b[39m(num)\n\u001b[0;32m      7\u001b[0m \u001b[39mreturn\u001b[39;00m num\n",
      "\u001b[1;31mValueError\u001b[0m: the first two maketrans arguments must have equal length"
     ]
    }
   ],
   "source": [
    "\n",
    "def min_value(digits):\n",
    "    num = list(set(digits))\n",
    "    num = sorted(num)\n",
    "    num = str(num).replace(' ', '').replace(',', '').replace('[', '').replace(']', '')\n",
    "\n",
    "    num = int(num)\n",
    "    return num\n",
    "min_value([4, 8, 1, 4])"
   ]
  },
  {
   "cell_type": "code",
   "execution_count": 31,
   "metadata": {},
   "outputs": [
    {
     "data": {
      "text/plain": [
       "12345678"
      ]
     },
     "execution_count": 31,
     "metadata": {},
     "output_type": "execute_result"
    }
   ],
   "source": [
    "def min_value(digits):\n",
    "     return int(\"\".join(map(str,sorted(set(digits)))))\n",
    "min_value([4, 3, 5, 6, 7, 0, 8, 1, 4, 2, 2, 2, 2, 2])"
   ]
  },
  {
   "cell_type": "code",
   "execution_count": 4,
   "metadata": {},
   "outputs": [
    {
     "name": "stdout",
     "output_type": "stream",
     "text": [
      "HeyWhatsupbro\n"
     ]
    }
   ],
   "source": [
    "string = \"Hey! What's up bro?\"\n",
    "\n",
    "new_string = ''.join(char for char in string if char.isalnum())\n",
    "print(new_string)"
   ]
  },
  {
   "cell_type": "code",
   "execution_count": 30,
   "metadata": {},
   "outputs": [
    {
     "name": "stdout",
     "output_type": "stream",
     "text": [
      "65 119ise 111ld 111wl 108ived 105n 97n 111ak\n"
     ]
    }
   ],
   "source": [
    "def transformar_string(entrada):\n",
    "    palavras = entrada.split()  # Dividir a entrada em palavras\n",
    "    saida = \"\"\n",
    "\n",
    "    for palavra in palavras:\n",
    "        if palavra.isalpha():\n",
    "            saida += str(ord(palavra[0])) + palavra[1:]\n",
    "        else:\n",
    "            saida += palavra\n",
    "\n",
    "        saida += \" \"\n",
    "\n",
    "    return saida.strip()\n",
    "\n",
    "\n",
    "# Exemplo de uso da função\n",
    "entrada = \"A wise   old   owl   lived   in   an  oak\"\n",
    "saida = transformar_string(entrada)\n",
    "print(saida)\n"
   ]
  },
  {
   "cell_type": "code",
   "execution_count": 26,
   "metadata": {},
   "outputs": [
    {
     "name": "stdout",
     "output_type": "stream",
     "text": [
      "['A', ' ', 'w', 'i', 's', 'e', ' ', 'o', 'l', 'd', ' ', 'o', 'w', 'l', ' ', 'l', 'i', 'v', 'e', 'd', ' ', 'i', 'n', ' ', 'a', 'n', ' ', 'o', 'a', 'k']\n"
     ]
    }
   ],
   "source": [
    "\n",
    "def encrypt_this(text):\n",
    "    \n",
    "    \n",
    "    \n",
    "encrypt_this(\"A wise old owl lived in an oak\")\n",
    "#encrypt_this()## entrada =         \"A wise   old   owl   lived   in   an  oak\"\n",
    "    ## saida esperada = \"65 119esi 111dl 111lw 108dvei 105n 97n 111ka\""
   ]
  },
  {
   "cell_type": "code",
   "execution_count": 8,
   "metadata": {},
   "outputs": [
    {
     "data": {
      "text/plain": [
       "'heljo'"
      ]
     },
     "execution_count": 8,
     "metadata": {},
     "output_type": "execute_result"
    }
   ],
   "source": [
    "def decode(st):\n",
    "    mapeamento = {'1': 'a', '2': 'e', '3': 'i', '4': 'o', '5': 'u'}\n",
    "    for vogal, num in mapeamento.items():\n",
    "        st = st.replace(vogal, num)\n",
    "    return st\n",
    "decode('h2ll4')\n",
    "\n",
    "def decode(st):\n",
    "    mapeamento = {'a': '1', 'e': '2', 'i': '3', 'o': '4', 'u': '5'}\n",
    "    for vogal, num in mapeamento.items():\n",
    "        st = st.replace(num, vogal)\n",
    "    return st\n",
    "decode('h2lj4')"
   ]
  },
  {
   "cell_type": "code",
   "execution_count": 4,
   "metadata": {},
   "outputs": [
    {
     "name": "stdout",
     "output_type": "stream",
     "text": [
      "Olakjhvju, mundo!\n"
     ]
    },
    {
     "data": {
      "text/plain": [
       "('p4lly, c4m4 v4cê 2stá?', ':o##], /o$o _o/ê e()á?')"
      ]
     },
     "execution_count": 4,
     "metadata": {},
     "output_type": "execute_result"
    }
   ],
   "source": [
    "texto = \"Olá, mundo!\"\n",
    "tabela = str.maketrans(\"Olá\", \"Ola\")\n",
    "\n",
    "texto_substituido = texto.translate(tabela)\n",
    "print(texto_substituido)\n",
    "\n",
    "def decotifica(str):\n",
    "    mudanca_vogal = str.maketrans(\"aeiou\", \"12345\")\n",
    "    mudanca_concoante = str.maketrans(\"bcdfghjklmnpqrstvwxyz\", \"^/*-+.!@#$%:&*()_+{]!\")\n",
    "\n",
    "    text_concoante = str.translate(mudanca_concoante)\n",
    "    text_subs = str.translate(mudanca_vogal)\n",
    "    return text_subs, text_concoante\n",
    "decotifica(\"polly, como você está?\")"
   ]
  },
  {
   "cell_type": "code",
   "execution_count": 7,
   "metadata": {},
   "outputs": [
    {
     "name": "stdout",
     "output_type": "stream",
     "text": [
      "OratoroeuaroupadoreideRoma.\n"
     ]
    }
   ],
   "source": [
    "import re\n",
    "\n",
    "string = \"O rato roeu a roupa do rei de Roma.\"\n",
    "padrão = ' '\n",
    "substituição = \"edu\"\n",
    "\n",
    "nova_string = re.sub(padrão, '', string)\n",
    "print(nova_string)"
   ]
  },
  {
   "cell_type": "code",
   "execution_count": 3,
   "metadata": {},
   "outputs": [
    {
     "data": {
      "text/plain": [
       "['0.2', '3.1', '3.5', '7.5']"
      ]
     },
     "execution_count": 3,
     "metadata": {},
     "output_type": "execute_result"
    }
   ],
   "source": [
    "def to_float_array(arr): \n",
    "    return sorted(list(map(str, arr)))\n",
    "to_float_array([3.5, 3.1, 7.5, 0.2])"
   ]
  },
  {
   "cell_type": "code",
   "execution_count": 2,
   "metadata": {},
   "outputs": [
    {
     "data": {
      "text/plain": [
       "'çds, sssssssçl sdw j'"
      ]
     },
     "execution_count": 2,
     "metadata": {},
     "output_type": "execute_result"
    }
   ],
   "source": [
    "def print_array(arr):\n",
    "    return ','.join(map(str, arr))\n",
    "print_array(['çds, sssssssçl sdw j'])"
   ]
  },
  {
   "cell_type": "code",
   "execution_count": 13,
   "metadata": {},
   "outputs": [
    {
     "data": {
      "text/plain": [
       "'(E#at me.!!)'"
      ]
     },
     "execution_count": 13,
     "metadata": {},
     "output_type": "execute_result"
    }
   ],
   "source": [
    "import re\n",
    "def string_clean(s):\n",
    "            #com \\s retira espaços em branco\n",
    "            #com \\w retira letra em num e deixa somente caractere especial\n",
    "    padrao = r'\\d+'  # Regex para encontrar números\n",
    "\n",
    "    texto_sem_numeros = re.sub(padrao, '', s) # o ato de substituir\n",
    "    return texto_sem_numeros\n",
    "string_clean(\"(E3#at m2e2.2!!)\")"
   ]
  },
  {
   "cell_type": "code",
   "execution_count": 24,
   "metadata": {},
   "outputs": [
    {
     "data": {
      "text/plain": [
       "'zzzzzzzzzzzzzz'"
      ]
     },
     "execution_count": 24,
     "metadata": {},
     "output_type": "execute_result"
    }
   ],
   "source": [
    "def contamination(text, char):\n",
    "    return char * len(text)\n",
    "contamination('bvcvnhhhhhhrer', 'z')     "
   ]
  },
  {
   "cell_type": "code",
   "execution_count": 7,
   "metadata": {},
   "outputs": [
    {
     "data": {
      "text/plain": [
       "2"
      ]
     },
     "execution_count": 7,
     "metadata": {},
     "output_type": "execute_result"
    }
   ],
   "source": [
    "def even_numbers(arr,n):\n",
    "    # pegar aquantidade n de ultimos numeros par\n",
    "    for i in arr:\n",
    "        if i % 2 == 0:\n",
    "            return i\n",
    "even_numbers([1, 2, 3, 4, 5, 6, 7, 8, 9], 3)"
   ]
  },
  {
   "cell_type": "code",
   "execution_count": 20,
   "metadata": {},
   "outputs": [
    {
     "name": "stdout",
     "output_type": "stream",
     "text": [
      "[-8, 26]\n"
     ]
    }
   ],
   "source": [
    "lista = [-22, 5, 3, 11, 26, -6, -7, -8, -9, -8, 26]\n",
    "n = 2\n",
    "lista_sem_impar = []\n",
    "for i in lista:\n",
    "    if i % 2 == 0:\n",
    "        lista_sem_impar.append(i)\n",
    "print(lista_sem_impar[-n:])"
   ]
  },
  {
   "cell_type": "code",
   "execution_count": 21,
   "metadata": {},
   "outputs": [
    {
     "data": {
      "text/plain": [
       "True"
      ]
     },
     "execution_count": 21,
     "metadata": {},
     "output_type": "execute_result"
    }
   ],
   "source": [
    "def power_of_two(x):\n",
    "    # ambos os bits precisa ser igual a 1 se não é 0\n",
    "    #compara o val passado com ele no inicio\n",
    "    # se 0 True else False\n",
    "    #exemplo:\n",
    "#     1000   (8 em binário)\n",
    "#   & 0111   (7 em binário)\n",
    "#    ------\n",
    "#     0000\n",
    "    \n",
    "    return x != 0 and (x & (x - 1)) == 0\n",
    "power_of_two(2)"
   ]
  },
  {
   "cell_type": "markdown",
   "metadata": {},
   "source": [
    "passar em: \n",
    "    (\"1\", 1),\n",
    "    (\"123\", 123),\n",
    "    (\"this is number: 7\", 7),\n",
    "    (\"$100 000 000\", 100000000),\n",
    "    (\"hell5o wor6ld\", 56),\n",
    "    (\"one1 two2 three3 four4 five5\", 12345)"
   ]
  },
  {
   "cell_type": "code",
   "execution_count": 37,
   "metadata": {},
   "outputs": [
    {
     "data": {
      "text/plain": [
       "56"
      ]
     },
     "execution_count": 37,
     "metadata": {},
     "output_type": "execute_result"
    }
   ],
   "source": [
    "def get_number_from_string(string):\n",
    "    \n",
    "    soment_num = []\n",
    "    for i in string:\n",
    "        if i.isdigit():\n",
    "            soment_num.append(i)\n",
    "    \n",
    "    soment_num = str(soment_num).replace(\"[\", \"\").replace(\"]\", \"\").replace(\",\", \"\").replace(\"'\", \"\").replace(\" \", \"\")\n",
    "    return int(soment_num)\n",
    "\n",
    "get_number_from_string(\"hell5o wor6ld\")# retornar 56"
   ]
  },
  {
   "cell_type": "code",
   "execution_count": 42,
   "metadata": {},
   "outputs": [
    {
     "data": {
      "text/plain": [
       "56"
      ]
     },
     "execution_count": 42,
     "metadata": {},
     "output_type": "execute_result"
    }
   ],
   "source": [
    "def get_number_from_string(string):\n",
    "    soment_num = []\n",
    "    for i in string:\n",
    "        if i.isdigit():\n",
    "            soment_num.append(i)\n",
    "    chars = \"[],'\"\n",
    "    res = str(soment_num).translate(str.maketrans('', '', chars)).replace(' ', '')\n",
    "    return int(res)\n",
    "\n",
    "get_number_from_string(\"hell5o wor6ld\")"
   ]
  },
  {
   "cell_type": "code",
   "execution_count": 38,
   "metadata": {},
   "outputs": [
    {
     "data": {
      "text/plain": [
       "56"
      ]
     },
     "execution_count": 38,
     "metadata": {},
     "output_type": "execute_result"
    }
   ],
   "source": [
    "def get_number_from_string(string):\n",
    "    return int(''.join(i for i in string if i.isdigit()))\n",
    "get_number_from_string(\"hell5o wor6ld\")"
   ]
  },
  {
   "cell_type": "markdown",
   "metadata": {},
   "source": [
    " test.assert_equals(warn_the_sheep(['sheep', 'sheep', 'sheep', 'sheep', 'sheep', 'wolf', 'sheep', 'sheep']), 'Oi! Sheep number 2! You are about to be eaten by a wolf!')\n",
    "\n",
    "        test.assert_equals(warn_the_sheep(['sheep', 'wolf', 'sheep', 'sheep', 'sheep', 'sheep', 'sheep']), 'Oi! Sheep number 5! You are about to be eaten by a wolf!')\n",
    " \n",
    "        test.assert_equals(warn_the_sheep(['wolf', 'sheep', 'sheep', 'sheep', 'sheep', 'sheep', 'sheep']), 'Oi! Sheep number 6! You are about to be eaten by a wolf!')\n",
    " \n",
    "        test.assert_equals(warn_the_sheep(['sheep', 'wolf', 'sheep']), 'Oi! Sheep number 1! You are about to be eaten by a wolf!')\n",
    " \n",
    "        test.assert_equals(warn_the_sheep(['sheep', 'sheep', 'wolf']), 'Pls go away and stop eating my sheep')\n"
   ]
  },
  {
   "cell_type": "code",
   "execution_count": 48,
   "metadata": {},
   "outputs": [
    {
     "name": "stdout",
     "output_type": "stream",
     "text": [
      "Oi! Sheep number 6! You are about to be eaten by a wolf!\n"
     ]
    }
   ],
   "source": [
    "def warn_the_sheep(queue):\n",
    "    if queue[-1] == 'wolf':\n",
    "        return \"Pls go away and stop eating my sheep\"\n",
    "    else:\n",
    "        posicao_wolf = queue.index('wolf')\n",
    "        de_wolf_ao_final = queue[posicao_wolf:]\n",
    "        posicao_ultimo_sheep = queue.index(de_wolf_ao_final[-1])\n",
    "        numero_sheep = len(queue) - posicao_ultimo_sheep - 1\n",
    "        return f\"Oi! Sheep number {numero_sheep}! You are about to be eaten by a wolf!\"\n",
    "\n",
    "resultado = warn_the_sheep(['sheep', 'wolf', 'sheep', 'sheep', 'sheep', 'sheep', 'sheep'])\n",
    "print(resultado)"
   ]
  },
  {
   "cell_type": "code",
   "execution_count": 10,
   "metadata": {},
   "outputs": [
    {
     "name": "stdout",
     "output_type": "stream",
     "text": [
      "{12: 3, 10: 2, 8: 1, 7: 1, 6: 1, 4: 1}\n"
     ]
    },
    {
     "data": {
      "text/plain": [
       "12"
      ]
     },
     "execution_count": 10,
     "metadata": {},
     "output_type": "execute_result"
    }
   ],
   "source": [
    "def highest_rank(arr):\n",
    "    # Dicionário para armazenar a contagem de ocorrências de cada elemento\n",
    "    counts = {}\n",
    "    for x in arr:\n",
    "        counts[x] = counts.get(x, 0) + 1\n",
    "\n",
    "# Aqui, o código atualiza o dicionário \"counts\" com a \n",
    "# contagem de ocorrências do elemento \"x\". \n",
    "# Se a chave \"x\" já existir no dicionário, \n",
    "# o valor associado a ela será obtido usando \n",
    "# \"counts.get(x, 0)\", e 1 será adicionado a esse valor \n",
    "# para aumentar a contagem de ocorrências. \n",
    "# Se a chave \"x\" não existir no dicionário, \n",
    "# counts.get(x, 0) retornará 0 (pois o valor padrão é 0), \n",
    "# e 1 será adicionado a 0, criando a entrada com o valor 1 \n",
    "# para o elemento \"x\".\n",
    "\n",
    "\n",
    "    # Encontrar o elemento com a maior contagem\n",
    "    max_count = max(counts.values())\n",
    "    most_frequent_elements = [x for x in counts if counts[x] == max_count]\n",
    "\n",
    "    # Resolver empate retornando o maior entre os elementos mais frequentes\n",
    "    result = max(most_frequent_elements)\n",
    "\n",
    "    return result\n",
    "\n",
    "\n",
    "highest_rank([12, 10, 8, 12, 7, 6, 4, 10, 12])"
   ]
  },
  {
   "cell_type": "code",
   "execution_count": 5,
   "metadata": {},
   "outputs": [
    {
     "name": "stdout",
     "output_type": "stream",
     "text": [
      "[12, 10, 12]\n"
     ]
    }
   ],
   "source": [
    "nums = [12, 10, 8, 12, 7, 6, 4, 10, 12]\n",
    " \n",
    "dup = [x for i, x in enumerate(nums) if i != nums.index(x)]\n",
    "print(dup)  # [1, 5, 1]\n",
    " "
   ]
  },
  {
   "cell_type": "markdown",
   "metadata": {},
   "source": [
    "Entrada\n",
    "A entrada sempre será uma string, por exemplo, \"Friday May 2, 7pm\". \n",
    "\n",
    "Saída\n",
    "A saída será a string encurtada, por exemplo, \"Friday May 2\"."
   ]
  },
  {
   "cell_type": "code",
   "execution_count": 38,
   "metadata": {},
   "outputs": [
    {
     "data": {
      "text/plain": [
       "'Wed Seteber 1'"
      ]
     },
     "execution_count": 38,
     "metadata": {},
     "output_type": "execute_result"
    }
   ],
   "source": [
    "def shorten_to_date(long_date):\n",
    "    date_new = long_date.maketrans(\",pm\", \"###\")\n",
    "    date_tradu = long_date.translate(date_new)\n",
    "    date_tradu = date_tradu.replace(\"#\", \"\")\n",
    "    new_date = date_tradu[:-2]\n",
    "    if new_date[-1] == \" \":\n",
    "        return new_date[:-1]\n",
    "    else:\n",
    "        return new_date\n",
    "shorten_to_date(\"Wed September 1, 3am\")"
   ]
  },
  {
   "cell_type": "code",
   "execution_count": 4,
   "metadata": {},
   "outputs": [
    {
     "data": {
      "text/plain": [
       "'19:05:45'"
      ]
     },
     "execution_count": 4,
     "metadata": {},
     "output_type": "execute_result"
    }
   ],
   "source": [
    "def timeConversion(s):\n",
    "\n",
    "    if s[-2:] == \"AM\" and s[:2] == \"12\": \n",
    "# se s for \"12:34:56AM\", o resultado será \"00:34:56\n",
    "        return \"00\" + s[2:-2] \n",
    "    elif s[-2:] == \"AM\": \n",
    "        return s[:-2] \n",
    "    elif s[-2:] == \"PM\" and s[:2] == \"12\": \n",
    "        return s[:-2] \n",
    "    else: \n",
    "        return str(int(s[:2]) + 12) + s[2:8] \n",
    "\n",
    "timeConversion(\"07:05:45PM\")"
   ]
  },
  {
   "cell_type": "code",
   "execution_count": 5,
   "metadata": {},
   "outputs": [
    {
     "data": {
      "text/plain": [
       "'Two'"
      ]
     },
     "execution_count": 5,
     "metadata": {},
     "output_type": "execute_result"
    }
   ],
   "source": [
    "def switch_it_up(n):\n",
    "    return ['Zero','One','Two','Three','Four','Five','Six','Seven','Eight','Nine'][n]\n",
    "switch_it_up(2)"
   ]
  },
  {
   "cell_type": "code",
   "execution_count": 7,
   "metadata": {},
   "outputs": [
    {
     "data": {
      "text/plain": [
       "'100'"
      ]
     },
     "execution_count": 7,
     "metadata": {},
     "output_type": "execute_result"
    }
   ],
   "source": [
    "def add_binary(a,b):\n",
    "# transformar a soma de a b em binario\n",
    "    return bin(a+b)[2:]\n",
    "add_binary(3, 1)"
   ]
  },
  {
   "cell_type": "code",
   "execution_count": 21,
   "metadata": {},
   "outputs": [
    {
     "data": {
      "text/plain": [
       "'no'"
      ]
     },
     "execution_count": 21,
     "metadata": {},
     "output_type": "execute_result"
    }
   ],
   "source": [
    "def is_sorted_and_how(arr):\n",
    "    # 3 verificacao na lista\n",
    "    # se ordenado\n",
    "    if arr == sorted(arr):\n",
    "        return 'yes, ascending'\n",
    "    \n",
    "    elif arr == sorted(arr, reverse=True):\n",
    "        return 'yes, descending'\n",
    "    else:\n",
    "        return 'no'\n",
    "is_sorted_and_how([15, 7, 3, 7])"
   ]
  },
  {
   "cell_type": "code",
   "execution_count": 22,
   "metadata": {},
   "outputs": [
    {
     "data": {
      "text/plain": [
       "'no'"
      ]
     },
     "execution_count": 22,
     "metadata": {},
     "output_type": "execute_result"
    }
   ],
   "source": [
    "def is_sorted_and_how(arr):\n",
    "    if arr == sorted(arr):\n",
    "        return 'yes, ascending' \n",
    "    elif arr == sorted(arr)[::-1]:\n",
    "        return 'yes, descending'\n",
    "    else:\n",
    "        return 'no'\n",
    "is_sorted_and_how([15, 7, 3, 7])"
   ]
  }
 ],
 "metadata": {
  "kernelspec": {
   "display_name": "Python 3.10.0 64-bit",
   "language": "python",
   "name": "python3"
  },
  "language_info": {
   "codemirror_mode": {
    "name": "ipython",
    "version": 3
   },
   "file_extension": ".py",
   "mimetype": "text/x-python",
   "name": "python",
   "nbconvert_exporter": "python",
   "pygments_lexer": "ipython3",
   "version": "3.10.0"
  },
  "orig_nbformat": 4,
  "vscode": {
   "interpreter": {
    "hash": "3e680e901da43b1ff7896a65bb9fdc0d88fdcb475def19e54fa2d4ad7c5b5275"
   }
  }
 },
 "nbformat": 4,
 "nbformat_minor": 2
}
